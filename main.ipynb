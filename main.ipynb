{
 "cells": [
  {
   "cell_type": "code",
   "execution_count": 1,
   "metadata": {},
   "outputs": [
    {
     "name": "stderr",
     "output_type": "stream",
     "text": [
      "2024-06-06 10:09:31.837729: I tensorflow/core/platform/cpu_feature_guard.cc:210] This TensorFlow binary is optimized to use available CPU instructions in performance-critical operations.\n",
      "To enable the following instructions: AVX2 FMA, in other operations, rebuild TensorFlow with the appropriate compiler flags.\n",
      "2024-06-06 10:09:32.387848: W tensorflow/compiler/tf2tensorrt/utils/py_utils.cc:38] TF-TRT Warning: Could not find TensorRT\n"
     ]
    }
   ],
   "source": [
    "import numpy as np\n",
    "import tensorflow as tf\n",
    "from tensorflow import keras\n",
    "from tensorflow.keras.models import Sequential, Model\n",
    "from tensorflow.keras.layers import Dense, Input, Embedding, Concatenate, Conv1D, Add, Multiply, LSTM, Lambda, Flatten\n",
    "from tensorflow.keras.initializers import RandomNormal\n",
    "from tensorflow.keras.preprocessing import sequence, text\n",
    "from tensorflow.keras.losses import SparseCategoricalCrossentropy, CategoricalCrossentropy\n",
    "from tensorflow.keras import callbacks\n",
    "from tensorflow.keras.utils import plot_model\n",
    "from sklearn.model_selection import train_test_split\n",
    "from sklearn.utils import shuffle\n",
    "\n",
    "import os\n",
    "import glob\n",
    "import json\n",
    "import rdkit\n",
    "from rdkit import Chem\n",
    "from tqdm import tqdm\n",
    "from tqdm import tqdm_notebook\n",
    "import time\n",
    "import datetime\n",
    "import matplotlib.pyplot as plt"
   ]
  },
  {
   "cell_type": "markdown",
   "metadata": {},
   "source": [
    "## Hyperparameters"
   ]
  },
  {
   "cell_type": "code",
   "execution_count": 3,
   "metadata": {},
   "outputs": [],
   "source": [
    "# Data loading parameters\n",
    "DATASET_DIR = './datasets/'\n",
    "SMILES_FILENAME = '250k_rndm_zinc_drugs_clean'\n",
    "MAPPING_DIR = './mapping/'\n",
    "MAPPING_TABLE_DIR = MAPPING_DIR + SMILES_FILENAME\n",
    "\n",
    "# Model Hyperparameters\n",
    "SMILES_MAX_LEN = 50\n",
    "EMBEDDING_DIM = 128\n",
    "FILTER_SIZES = (3, 4)\n",
    "FILTER_NUM = 128\n",
    "LATENT_DIM = 300\n",
    "LSTM_CELLS_NUM = LATENT_DIM//2\n",
    "DIVERSITY = 1\n",
    "\n",
    "# Training Parameters \n",
    "BATCH_SIZE = 64\n",
    "NUM_EPOCHS = 100\n",
    "CHECKPOINT_PERIOD = 50\n",
    "LR = 0.001\n",
    "\n",
    "# Load mapping table\n",
    "with open(MAPPING_TABLE_DIR + '/tokenizer.json', 'r') as f:\n",
    "    tokenizer = text.tokenizer_from_json(json.load(f))\n",
    "\n",
    "SMILES_DIM = len(tokenizer.word_index)"
   ]
  },
  {
   "cell_type": "markdown",
   "metadata": {},
   "source": [
    "## Load Training Dataset"
   ]
  },
  {
   "cell_type": "code",
   "execution_count": 14,
   "metadata": {},
   "outputs": [
    {
     "name": "stderr",
     "output_type": "stream",
     "text": [
      "100%|██████████| 2/2 [00:00<00:00, 15887.52it/s]\n"
     ]
    }
   ],
   "source": [
    "# Load training data\n",
    "x_train = []\n",
    "smiles_counter = 0\n",
    "with open(DATASET_DIR + SMILES_FILENAME + '.smi') as f:\n",
    "    for smiles in tqdm(f.readlines()):\n",
    "        # Mapping\n",
    "        if len(smiles) < SMILES_MAX_LEN:\n",
    "            smiles_counter += 1\n",
    "            sequences = tokenizer.texts_to_sequences([smiles])\n",
    "            padded_sequences = sequence.pad_sequences(sequences, maxlen=SMILES_MAX_LEN, padding='post', value=tokenizer.word_index['<PAD>'])\n",
    "            x_train.append(padded_sequences)\n",
    "        \n",
    "x_train = np.squeeze(np.array(x_train))"
   ]
  },
  {
   "cell_type": "code",
   "execution_count": 15,
   "metadata": {},
   "outputs": [
    {
     "name": "stdout",
     "output_type": "stream",
     "text": [
      "Total training dataset: 2\n"
     ]
    }
   ],
   "source": [
    "print(\"Total training dataset: {}\".format(x_train.__len__()))"
   ]
  },
  {
   "cell_type": "code",
   "execution_count": 16,
   "metadata": {},
   "outputs": [
    {
     "name": "stdout",
     "output_type": "stream",
     "text": [
      "[ 2  2  2  2  2  2 36 36 36 36 36 36 36 36 36 36 36 36 36 36 36 36 36 36\n",
      " 36 36 36 36 36 36 36 36 36 36 36 36 36 36 36 36 36 36 36 36 36 36 36 36\n",
      " 36 36]\n",
      "(50,)\n",
      "(2, 50)\n"
     ]
    }
   ],
   "source": [
    "# Save token\n",
    "np.save(MAPPING_TABLE_DIR + '/token', x_train)\n",
    "\n",
    "print(x_train[0])\n",
    "print(x_train[0].shape)\n",
    "print(x_train.shape)"
   ]
  },
  {
   "cell_type": "code",
   "execution_count": 17,
   "metadata": {},
   "outputs": [
    {
     "name": "stdout",
     "output_type": "stream",
     "text": [
      "x_train shape: (2, 50)\n"
     ]
    }
   ],
   "source": [
    "# Shuffle data\n",
    "np.random.shuffle(x_train)\n",
    "\n",
    "print('x_train shape:', x_train.shape)"
   ]
  },
  {
   "cell_type": "markdown",
   "metadata": {},
   "source": [
    "## VAE Model (subclassing version)"
   ]
  },
  {
   "cell_type": "markdown",
   "metadata": {},
   "source": [
    "### Encoder (subclassing layer API)"
   ]
  },
  {
   "cell_type": "code",
   "execution_count": 18,
   "metadata": {},
   "outputs": [],
   "source": [
    "class Sampling(keras.layers.Layer):\n",
    "    def __init__(self, lstm_cells_num, name='Sampling'):\n",
    "        super(Sampling, self).__init__()\n",
    "        self.lstm_cells_num = lstm_cells_num\n",
    "        self.diversity = 1\n",
    "        \n",
    "    def call(self, x):\n",
    "        z_mean, z_logvar = x\n",
    "        batch = tf.shape(z_mean)[0]\n",
    "        dim = tf.shape(z_mean)[1]\n",
    "        \n",
    "        # latent variable\n",
    "        normal_z = tf.random.normal(shape=(batch, dim), name='normal', stddev=(1.0 * self.diversity))\n",
    "        z = z_mean + z_logvar * normal_z # original CDN code\n",
    "        \n",
    "        # decoder input\n",
    "        state_h, state_c = z[:, :self.lstm_cells_num], z[:, self.lstm_cells_num:]\n",
    "        \n",
    "        # KL-divergence\n",
    "        kl_loss = 0.5 * tf.reduce_sum(tf.square(z_mean) + tf.square(z_logvar) - tf.math.log(tf.square(z_logvar)) - 1, 1)\n",
    "        kl_loss = tf.reduce_mean(kl_loss)\n",
    "        \n",
    "        return z, kl_loss, state_h, state_c\n",
    "    \n",
    "    def set_diversity(self, diversity):\n",
    "        self.diversity = diversity\n",
    "        \n",
    "    def get_config(self):\n",
    "        return {\n",
    "            \"diversity\": self.diversity\n",
    "        }"
   ]
  },
  {
   "cell_type": "code",
   "execution_count": 19,
   "metadata": {},
   "outputs": [],
   "source": [
    "class Encoder(keras.layers.Layer):\n",
    "    def __init__(self, smiles_dim, smiles_max_len, embedding_dim, filter_sz, filter_num, latent_dim, lstm_cells_num, name='Encoder'):\n",
    "        super(Encoder, self).__init__()\n",
    "        self.smiles_dim = smiles_dim\n",
    "        self.smiles_max_len = smiles_max_len\n",
    "        self.embedding_dim = embedding_dim\n",
    "        self.filter_sz = filter_sz\n",
    "        self.filter_num = filter_num\n",
    "        self.latent_dim = latent_dim\n",
    "        self.lstm_cells_num = lstm_cells_num\n",
    "        \n",
    "        self.embedding = Embedding(input_dim=self.smiles_dim,\n",
    "                                         output_dim=self.embedding_dim,\n",
    "                                         input_length=self.smiles_max_len,\n",
    "                                         embeddings_initializer='uniform', \n",
    "                                         name='Embedding')\n",
    "        \n",
    "        self.conv_3 =  Conv1D(filters=self.filter_num,\n",
    "                              kernel_size=self.filter_sz[0],\n",
    "                              padding='valid',\n",
    "                              activation='relu',\n",
    "                              strides=1,\n",
    "                              kernel_initializer='TruncatedNormal',\n",
    "                              name='Conv-{}'.format(self.filter_sz[0]))\n",
    "        \n",
    "        self.conv_4 =  Conv1D(filters=self.filter_num,\n",
    "                              kernel_size=self.filter_sz[1],\n",
    "                              padding='valid',\n",
    "                              activation='relu',\n",
    "                              strides=1,\n",
    "                              kernel_initializer='TruncatedNormal',\n",
    "                              name='Conv-{}'.format(self.filter_sz[1]))\n",
    "        \n",
    "        \n",
    "        self.conv = [self.conv_3, self.conv_4]\n",
    "        \n",
    "        self.flatten = Flatten()\n",
    "        self.concate = Concatenate(axis=1, name='Concate')\n",
    "        self.dense = Dense(450, activation='relu')\n",
    "        self.z_mean = Dense(self.latent_dim, name='z_mean')\n",
    "        self.z_logvar = Dense(self.latent_dim, name='z_log_var')\n",
    "        self.sampling = Sampling(self.lstm_cells_num)\n",
    "        \n",
    "    def call(self, x):\n",
    "        encoded_x = self.embedding(x)\n",
    "        \n",
    "        conv_blocks = []\n",
    "        for conv in self.conv:\n",
    "            _ = conv(encoded_x)\n",
    "            conv_blocks.append(self.flatten(_))\n",
    "            \n",
    "        x = self.concate(conv_blocks)\n",
    "        x = self.dense(x)\n",
    "        z_mean = self.z_mean(x)\n",
    "        z_logvar = self.z_logvar(x)\n",
    "        z, kl_loss, state_h, state_c = self.sampling((z_mean, z_logvar))\n",
    "        \n",
    "        return encoded_x, z, kl_loss, state_h, state_c"
   ]
  },
  {
   "cell_type": "markdown",
   "metadata": {},
   "source": [
    "### Decoder (Subclassing API)"
   ]
  },
  {
   "cell_type": "code",
   "execution_count": 20,
   "metadata": {},
   "outputs": [],
   "source": [
    "class Decoder2(keras.layers.Layer):\n",
    "    def __init__(self, smiles_dim, smiles_max_len, embedding_dim, lstm_cells_num, name='Decoder'):\n",
    "        super(Decoder2, self).__init__()\n",
    "        self.smiles_dim = smiles_dim\n",
    "        self.smiles_max_len = smiles_max_len\n",
    "        self.embedding_dim = embedding_dim\n",
    "        self.lstm_cells_num = lstm_cells_num\n",
    "        \n",
    "        self.lstm_cell = keras.layers.LSTMCell(self.lstm_cells_num, name='LSTM')\n",
    "        self.dense_output = Dense(self.smiles_dim, activation='softmax', name='Decoder-Output')\n",
    "        \n",
    "    def call(self, x, state_h, state_c):\n",
    "        init_state_h = state_h\n",
    "        init_state_c = state_c\n",
    "        \n",
    "        x = tf.split(x, self.smiles_max_len, axis=1)\n",
    "        x = [tf.squeeze(i, axis=1) for i in x]\n",
    "        \n",
    "        temp_logits = []\n",
    "        for i in range(SMILES_MAX_LEN):\n",
    "            if i == 0:\n",
    "                output, state = self.lstm_cell(x[i], states=[init_state_h, init_state_c])\n",
    "            else:\n",
    "                output, state = self.lstm_cell(x[i], states=state)\n",
    "            temp_logits.append(self.dense_output(output)) # (50, batch, 37), due to for-loop\n",
    "        decoder_logits = tf.transpose(tf.stack(temp_logits), perm=[1, 0, 2]) # (batch, 50, 37)\n",
    "        return decoder_logits"
   ]
  },
  {
   "cell_type": "markdown",
   "metadata": {},
   "source": [
    "### VAE model (subclassing model API)"
   ]
  },
  {
   "cell_type": "code",
   "execution_count": 21,
   "metadata": {},
   "outputs": [],
   "source": [
    "class VAE(Model):\n",
    "    def __init__(self, encoder, decoder, **kwargs):\n",
    "        super(VAE, self).__init__(**kwargs)\n",
    "        self.encoder = encoder\n",
    "        self.decoder = decoder\n",
    "        self.latent_space = []\n",
    "        \n",
    "    def call(self, x):\n",
    "        encoded_x, z, kl_loss, state_h, state_c = self.encoder(x)\n",
    "        decoded_output = self.decoder(encoded_x, state_h, state_c)\n",
    "        self.latent_space.append(z)\n",
    "        return decoded_output\n",
    "        \n",
    "    def train_step(self, data):\n",
    "        if isinstance(data, tuple):\n",
    "            data = data[0] # fetch 1 batch data\n",
    "            self.temp_tensor = data\n",
    "\n",
    "        with tf.GradientTape() as tape:\n",
    "            encoded_x, z, kl_loss, state_h, state_c = self.encoder(data)\n",
    "            y_pred = self(data)\n",
    "            \n",
    "            # for monitoring\n",
    "            self.latent_space.append(z)\n",
    "            \n",
    "            # Reconstrunction loss\n",
    "            y_true = tf.one_hot(tf.cast(data, tf.int32), self.encoder.smiles_dim)\n",
    "            cce = CategoricalCrossentropy()\n",
    "            reconstruction_loss = cce(y_true, y_pred)\n",
    "            \n",
    "            # Total loss\n",
    "            total_loss = .00001 * kl_loss + reconstruction_loss\n",
    "            \n",
    "            # Acc\n",
    "            acc = self.accuracy(data, y_pred)\n",
    "            \n",
    "        grads = tape.gradient(total_loss, self.trainable_variables)\n",
    "        self.optimizer.apply_gradients(zip(grads, self.trainable_variables))\n",
    "        return {\n",
    "            'loss': total_loss,\n",
    "            'reconstruction_loss': reconstruction_loss,\n",
    "            'kl_loss': kl_loss,\n",
    "            'acc': acc\n",
    "        }\n",
    "    \n",
    "    def test_step(self, data):\n",
    "        data = data[0] \n",
    "        encoded_x, z, kl_loss, state_h, state_c = self.encoder(data, training=False)\n",
    "        y_pred = self(data, training=False)\n",
    "        y_true = tf.one_hot(tf.cast(data, tf.int32), self.encoder.smiles_dim)\n",
    "        cce = CategoricalCrossentropy()\n",
    "        reconstruction_loss = cce(y_true, y_pred)\n",
    "        total_loss = .00001 * kl_loss + reconstruction_loss\n",
    "        acc = self.accuracy(data, y_pred)\n",
    "        \n",
    "        return {\n",
    "            'loss': total_loss,\n",
    "            'reconstruction_loss': reconstruction_loss,\n",
    "            'kl_loss': kl_loss,\n",
    "            'acc': acc\n",
    "        }\n",
    "    \n",
    "    def accuracy(self, data, pred):\n",
    "        decoder_pred = tf.argmax(pred, axis=2)\n",
    "        correct_pred = tf.equal(decoder_pred, tf.cast(data, 'int64'))\n",
    "        acc = tf.reduce_mean(tf.cast(correct_pred, 'float64'))\n",
    "        \n",
    "        return acc\n",
    "    \n",
    "    def get_config(self):\n",
    "        return {\n",
    "            \"z\": self.latent_space\n",
    "        }"
   ]
  },
  {
   "cell_type": "code",
   "execution_count": 22,
   "metadata": {},
   "outputs": [],
   "source": [
    "dataset_dir = '250k_rndm_zinc_drugs_clean'\n",
    "\n",
    "# load data (if we alread have)\n",
    "x_train = np.load('./mapping/{}/token.npy'.format(dataset_dir))\n",
    "x_train, x_valid = train_test_split(x_train, test_size=0.2, random_state=108)\n",
    "\n",
    "# Load mapping table\n",
    "with open('./mapping/{}/tokenizer.json'.format(dataset_dir), 'r') as f:\n",
    "    tokenizer = text.tokenizer_from_json(json.load(f))\n",
    "\n",
    "SMILES_DIM = len(tokenizer.word_index)"
   ]
  },
  {
   "cell_type": "code",
   "execution_count": 25,
   "metadata": {},
   "outputs": [
    {
     "name": "stdout",
     "output_type": "stream",
     "text": [
      "Epoch 1/100\n"
     ]
    },
    {
     "name": "stdout",
     "output_type": "stream",
     "text": [
      "\u001b[1m1/1\u001b[0m \u001b[32m━━━━━━━━━━━━━━━━━━━━\u001b[0m\u001b[37m\u001b[0m \u001b[1m8s\u001b[0m 8s/step - acc: 0.0000e+00 - kl_loss: 1185.1105 - loss: 3.6110 - reconstruction_loss: 3.5992\n",
      "Epoch 2/100\n",
      "\u001b[1m1/1\u001b[0m \u001b[32m━━━━━━━━━━━━━━━━━━━━\u001b[0m\u001b[37m\u001b[0m \u001b[1m0s\u001b[0m 51ms/step - acc: 0.9000 - kl_loss: 713.1399 - loss: 3.4837 - reconstruction_loss: 3.4765\n",
      "Epoch 3/100\n",
      "\u001b[1m1/1\u001b[0m \u001b[32m━━━━━━━━━━━━━━━━━━━━\u001b[0m\u001b[37m\u001b[0m \u001b[1m0s\u001b[0m 53ms/step - acc: 0.8200 - kl_loss: 500.1342 - loss: 3.3728 - reconstruction_loss: 3.3678\n",
      "Epoch 4/100\n",
      "\u001b[1m1/1\u001b[0m \u001b[32m━━━━━━━━━━━━━━━━━━━━\u001b[0m\u001b[37m\u001b[0m \u001b[1m0s\u001b[0m 50ms/step - acc: 0.9000 - kl_loss: 391.5967 - loss: 3.1360 - reconstruction_loss: 3.1320\n",
      "Epoch 5/100\n"
     ]
    },
    {
     "name": "stderr",
     "output_type": "stream",
     "text": [
      "/home/liang/miniconda3/envs/aidd/lib/python3.10/site-packages/keras/src/callbacks/early_stopping.py:155: UserWarning: Early stopping conditioned on metric `val_loss` which is not available. Available metrics are: acc,kl_loss,loss,reconstruction_loss\n",
      "  current = self.get_monitor_value(logs)\n"
     ]
    },
    {
     "name": "stdout",
     "output_type": "stream",
     "text": [
      "\u001b[1m1/1\u001b[0m \u001b[32m━━━━━━━━━━━━━━━━━━━━\u001b[0m\u001b[37m\u001b[0m \u001b[1m0s\u001b[0m 52ms/step - acc: 0.8800 - kl_loss: 301.9276 - loss: 2.9507 - reconstruction_loss: 2.9477\n",
      "Epoch 6/100\n",
      "\u001b[1m1/1\u001b[0m \u001b[32m━━━━━━━━━━━━━━━━━━━━\u001b[0m\u001b[37m\u001b[0m \u001b[1m0s\u001b[0m 53ms/step - acc: 0.9000 - kl_loss: 266.3735 - loss: 2.5984 - reconstruction_loss: 2.5957\n",
      "Epoch 7/100\n",
      "\u001b[1m1/1\u001b[0m \u001b[32m━━━━━━━━━━━━━━━━━━━━\u001b[0m\u001b[37m\u001b[0m \u001b[1m0s\u001b[0m 51ms/step - acc: 0.9200 - kl_loss: 293.7699 - loss: 2.0309 - reconstruction_loss: 2.0280\n",
      "Epoch 8/100\n",
      "\u001b[1m1/1\u001b[0m \u001b[32m━━━━━━━━━━━━━━━━━━━━\u001b[0m\u001b[37m\u001b[0m \u001b[1m0s\u001b[0m 50ms/step - acc: 0.9000 - kl_loss: 406.6134 - loss: 1.5359 - reconstruction_loss: 1.5319\n",
      "Epoch 9/100\n",
      "\u001b[1m1/1\u001b[0m \u001b[32m━━━━━━━━━━━━━━━━━━━━\u001b[0m\u001b[37m\u001b[0m \u001b[1m0s\u001b[0m 53ms/step - acc: 0.9000 - kl_loss: 674.7369 - loss: 1.1558 - reconstruction_loss: 1.1491\n",
      "Epoch 10/100\n",
      "\u001b[1m1/1\u001b[0m \u001b[32m━━━━━━━━━━━━━━━━━━━━\u001b[0m\u001b[37m\u001b[0m \u001b[1m0s\u001b[0m 53ms/step - acc: 0.9200 - kl_loss: 1077.7793 - loss: 0.8418 - reconstruction_loss: 0.8310\n",
      "Epoch 11/100\n",
      "\u001b[1m1/1\u001b[0m \u001b[32m━━━━━━━━━━━━━━━━━━━━\u001b[0m\u001b[37m\u001b[0m \u001b[1m0s\u001b[0m 54ms/step - acc: 0.9000 - kl_loss: 1504.1959 - loss: 0.6157 - reconstruction_loss: 0.6006\n",
      "Epoch 12/100\n",
      "\u001b[1m1/1\u001b[0m \u001b[32m━━━━━━━━━━━━━━━━━━━━\u001b[0m\u001b[37m\u001b[0m \u001b[1m0s\u001b[0m 53ms/step - acc: 0.9000 - kl_loss: 1860.4740 - loss: 0.4790 - reconstruction_loss: 0.4603\n",
      "Epoch 13/100\n",
      "\u001b[1m1/1\u001b[0m \u001b[32m━━━━━━━━━━━━━━━━━━━━\u001b[0m\u001b[37m\u001b[0m \u001b[1m0s\u001b[0m 53ms/step - acc: 0.9000 - kl_loss: 2098.0325 - loss: 0.4383 - reconstruction_loss: 0.4174\n",
      "Epoch 14/100\n",
      "\u001b[1m1/1\u001b[0m \u001b[32m━━━━━━━━━━━━━━━━━━━━\u001b[0m\u001b[37m\u001b[0m \u001b[1m0s\u001b[0m 54ms/step - acc: 0.9000 - kl_loss: 2189.4087 - loss: 0.3783 - reconstruction_loss: 0.3564\n",
      "Epoch 15/100\n",
      "\u001b[1m1/1\u001b[0m \u001b[32m━━━━━━━━━━━━━━━━━━━━\u001b[0m\u001b[37m\u001b[0m \u001b[1m0s\u001b[0m 53ms/step - acc: 0.9000 - kl_loss: 2124.4626 - loss: 0.3509 - reconstruction_loss: 0.3296\n",
      "Epoch 16/100\n",
      "\u001b[1m1/1\u001b[0m \u001b[32m━━━━━━━━━━━━━━━━━━━━\u001b[0m\u001b[37m\u001b[0m \u001b[1m0s\u001b[0m 55ms/step - acc: 0.9000 - kl_loss: 1929.4010 - loss: 0.3198 - reconstruction_loss: 0.3005\n",
      "Epoch 17/100\n",
      "\u001b[1m1/1\u001b[0m \u001b[32m━━━━━━━━━━━━━━━━━━━━\u001b[0m\u001b[37m\u001b[0m \u001b[1m0s\u001b[0m 53ms/step - acc: 0.9000 - kl_loss: 1667.0205 - loss: 0.3422 - reconstruction_loss: 0.3256\n",
      "Epoch 18/100\n",
      "\u001b[1m1/1\u001b[0m \u001b[32m━━━━━━━━━━━━━━━━━━━━\u001b[0m\u001b[37m\u001b[0m \u001b[1m0s\u001b[0m 53ms/step - acc: 0.9000 - kl_loss: 1340.3407 - loss: 0.3128 - reconstruction_loss: 0.2994\n",
      "Epoch 19/100\n",
      "\u001b[1m1/1\u001b[0m \u001b[32m━━━━━━━━━━━━━━━━━━━━\u001b[0m\u001b[37m\u001b[0m \u001b[1m0s\u001b[0m 50ms/step - acc: 0.9000 - kl_loss: 1067.7458 - loss: 0.3508 - reconstruction_loss: 0.3401\n",
      "Epoch 20/100\n",
      "\u001b[1m1/1\u001b[0m \u001b[32m━━━━━━━━━━━━━━━━━━━━\u001b[0m\u001b[37m\u001b[0m \u001b[1m0s\u001b[0m 54ms/step - acc: 0.9400 - kl_loss: 835.1789 - loss: 0.2443 - reconstruction_loss: 0.2360\n",
      "Epoch 21/100\n",
      "\u001b[1m1/1\u001b[0m \u001b[32m━━━━━━━━━━━━━━━━━━━━\u001b[0m\u001b[37m\u001b[0m \u001b[1m0s\u001b[0m 53ms/step - acc: 0.9000 - kl_loss: 646.1215 - loss: 0.3076 - reconstruction_loss: 0.3011\n",
      "Epoch 22/100\n",
      "\u001b[1m1/1\u001b[0m \u001b[32m━━━━━━━━━━━━━━━━━━━━\u001b[0m\u001b[37m\u001b[0m \u001b[1m0s\u001b[0m 52ms/step - acc: 0.9200 - kl_loss: 568.4423 - loss: 0.3310 - reconstruction_loss: 0.3253\n",
      "Epoch 23/100\n",
      "\u001b[1m1/1\u001b[0m \u001b[32m━━━━━━━━━━━━━━━━━━━━\u001b[0m\u001b[37m\u001b[0m \u001b[1m0s\u001b[0m 50ms/step - acc: 0.9000 - kl_loss: 510.8258 - loss: 0.2888 - reconstruction_loss: 0.2837\n",
      "Epoch 24/100\n",
      "\u001b[1m1/1\u001b[0m \u001b[32m━━━━━━━━━━━━━━━━━━━━\u001b[0m\u001b[37m\u001b[0m \u001b[1m0s\u001b[0m 55ms/step - acc: 0.9000 - kl_loss: 475.8805 - loss: 0.3306 - reconstruction_loss: 0.3258\n",
      "Epoch 25/100\n",
      "\u001b[1m1/1\u001b[0m \u001b[32m━━━━━━━━━━━━━━━━━━━━\u001b[0m\u001b[37m\u001b[0m \u001b[1m0s\u001b[0m 55ms/step - acc: 0.9000 - kl_loss: 509.3614 - loss: 0.3678 - reconstruction_loss: 0.3627\n",
      "Epoch 26/100\n",
      "\u001b[1m1/1\u001b[0m \u001b[32m━━━━━━━━━━━━━━━━━━━━\u001b[0m\u001b[37m\u001b[0m \u001b[1m0s\u001b[0m 55ms/step - acc: 0.9600 - kl_loss: 574.8012 - loss: 0.2104 - reconstruction_loss: 0.2046\n",
      "Epoch 27/100\n",
      "\u001b[1m1/1\u001b[0m \u001b[32m━━━━━━━━━━━━━━━━━━━━\u001b[0m\u001b[37m\u001b[0m \u001b[1m0s\u001b[0m 53ms/step - acc: 0.9000 - kl_loss: 662.4333 - loss: 0.2231 - reconstruction_loss: 0.2165\n",
      "Epoch 28/100\n",
      "\u001b[1m1/1\u001b[0m \u001b[32m━━━━━━━━━━━━━━━━━━━━\u001b[0m\u001b[37m\u001b[0m \u001b[1m0s\u001b[0m 53ms/step - acc: 0.9200 - kl_loss: 800.4908 - loss: 0.2683 - reconstruction_loss: 0.2603\n",
      "Epoch 29/100\n",
      "\u001b[1m1/1\u001b[0m \u001b[32m━━━━━━━━━━━━━━━━━━━━\u001b[0m\u001b[37m\u001b[0m \u001b[1m0s\u001b[0m 58ms/step - acc: 0.9200 - kl_loss: 922.8820 - loss: 0.2494 - reconstruction_loss: 0.2402\n",
      "Epoch 30/100\n",
      "\u001b[1m1/1\u001b[0m \u001b[32m━━━━━━━━━━━━━━━━━━━━\u001b[0m\u001b[37m\u001b[0m \u001b[1m0s\u001b[0m 53ms/step - acc: 0.9000 - kl_loss: 1031.5696 - loss: 0.2535 - reconstruction_loss: 0.2432\n",
      "Epoch 31/100\n",
      "\u001b[1m1/1\u001b[0m \u001b[32m━━━━━━━━━━━━━━━━━━━━\u001b[0m\u001b[37m\u001b[0m \u001b[1m0s\u001b[0m 53ms/step - acc: 0.9400 - kl_loss: 1163.4609 - loss: 0.1950 - reconstruction_loss: 0.1834\n",
      "Epoch 32/100\n",
      "\u001b[1m1/1\u001b[0m \u001b[32m━━━━━━━━━━━━━━━━━━━━\u001b[0m\u001b[37m\u001b[0m \u001b[1m0s\u001b[0m 53ms/step - acc: 0.9200 - kl_loss: 1292.4200 - loss: 0.2634 - reconstruction_loss: 0.2505\n",
      "Epoch 33/100\n",
      "\u001b[1m1/1\u001b[0m \u001b[32m━━━━━━━━━━━━━━━━━━━━\u001b[0m\u001b[37m\u001b[0m \u001b[1m0s\u001b[0m 55ms/step - acc: 0.9600 - kl_loss: 1394.1224 - loss: 0.2122 - reconstruction_loss: 0.1982\n",
      "Epoch 34/100\n",
      "\u001b[1m1/1\u001b[0m \u001b[32m━━━━━━━━━━━━━━━━━━━━\u001b[0m\u001b[37m\u001b[0m \u001b[1m0s\u001b[0m 53ms/step - acc: 0.9000 - kl_loss: 1437.6086 - loss: 0.2443 - reconstruction_loss: 0.2299\n",
      "Epoch 35/100\n",
      "\u001b[1m1/1\u001b[0m \u001b[32m━━━━━━━━━━━━━━━━━━━━\u001b[0m\u001b[37m\u001b[0m \u001b[1m0s\u001b[0m 53ms/step - acc: 0.9600 - kl_loss: 1510.1274 - loss: 0.1579 - reconstruction_loss: 0.1428\n",
      "Epoch 36/100\n",
      "\u001b[1m1/1\u001b[0m \u001b[32m━━━━━━━━━━━━━━━━━━━━\u001b[0m\u001b[37m\u001b[0m \u001b[1m0s\u001b[0m 54ms/step - acc: 0.9400 - kl_loss: 1562.7367 - loss: 0.1698 - reconstruction_loss: 0.1542\n",
      "Epoch 37/100\n",
      "\u001b[1m1/1\u001b[0m \u001b[32m━━━━━━━━━━━━━━━━━━━━\u001b[0m\u001b[37m\u001b[0m \u001b[1m0s\u001b[0m 52ms/step - acc: 0.9600 - kl_loss: 1576.4558 - loss: 0.1476 - reconstruction_loss: 0.1318\n",
      "Epoch 38/100\n",
      "\u001b[1m1/1\u001b[0m \u001b[32m━━━━━━━━━━━━━━━━━━━━\u001b[0m\u001b[37m\u001b[0m \u001b[1m0s\u001b[0m 54ms/step - acc: 0.9600 - kl_loss: 1548.1132 - loss: 0.2011 - reconstruction_loss: 0.1856\n",
      "Epoch 39/100\n",
      "\u001b[1m1/1\u001b[0m \u001b[32m━━━━━━━━━━━━━━━━━━━━\u001b[0m\u001b[37m\u001b[0m \u001b[1m0s\u001b[0m 54ms/step - acc: 0.9400 - kl_loss: 1508.4801 - loss: 0.1657 - reconstruction_loss: 0.1506\n",
      "Epoch 40/100\n",
      "\u001b[1m1/1\u001b[0m \u001b[32m━━━━━━━━━━━━━━━━━━━━\u001b[0m\u001b[37m\u001b[0m \u001b[1m0s\u001b[0m 54ms/step - acc: 0.9200 - kl_loss: 1412.8047 - loss: 0.2194 - reconstruction_loss: 0.2053\n",
      "Epoch 41/100\n",
      "\u001b[1m1/1\u001b[0m \u001b[32m━━━━━━━━━━━━━━━━━━━━\u001b[0m\u001b[37m\u001b[0m \u001b[1m0s\u001b[0m 53ms/step - acc: 0.9600 - kl_loss: 1297.5311 - loss: 0.1240 - reconstruction_loss: 0.1111\n",
      "Epoch 42/100\n",
      "\u001b[1m1/1\u001b[0m \u001b[32m━━━━━━━━━━━━━━━━━━━━\u001b[0m\u001b[37m\u001b[0m \u001b[1m0s\u001b[0m 53ms/step - acc: 0.9400 - kl_loss: 1170.8174 - loss: 0.1933 - reconstruction_loss: 0.1816\n",
      "Epoch 43/100\n",
      "\u001b[1m1/1\u001b[0m \u001b[32m━━━━━━━━━━━━━━━━━━━━\u001b[0m\u001b[37m\u001b[0m \u001b[1m0s\u001b[0m 53ms/step - acc: 0.9600 - kl_loss: 1011.1130 - loss: 0.1370 - reconstruction_loss: 0.1268\n",
      "Epoch 44/100\n",
      "\u001b[1m1/1\u001b[0m \u001b[32m━━━━━━━━━━━━━━━━━━━━\u001b[0m\u001b[37m\u001b[0m \u001b[1m0s\u001b[0m 53ms/step - acc: 0.9600 - kl_loss: 882.5172 - loss: 0.1400 - reconstruction_loss: 0.1312\n",
      "Epoch 45/100\n",
      "\u001b[1m1/1\u001b[0m \u001b[32m━━━━━━━━━━━━━━━━━━━━\u001b[0m\u001b[37m\u001b[0m \u001b[1m0s\u001b[0m 53ms/step - acc: 0.9600 - kl_loss: 774.0599 - loss: 0.1270 - reconstruction_loss: 0.1192\n",
      "Epoch 46/100\n",
      "\u001b[1m1/1\u001b[0m \u001b[32m━━━━━━━━━━━━━━━━━━━━\u001b[0m\u001b[37m\u001b[0m \u001b[1m0s\u001b[0m 52ms/step - acc: 0.9600 - kl_loss: 686.4312 - loss: 0.1411 - reconstruction_loss: 0.1343\n",
      "Epoch 47/100\n",
      "\u001b[1m1/1\u001b[0m \u001b[32m━━━━━━━━━━━━━━━━━━━━\u001b[0m\u001b[37m\u001b[0m \u001b[1m0s\u001b[0m 53ms/step - acc: 0.9400 - kl_loss: 614.5679 - loss: 0.1507 - reconstruction_loss: 0.1446\n",
      "Epoch 48/100\n",
      "\u001b[1m1/1\u001b[0m \u001b[32m━━━━━━━━━━━━━━━━━━━━\u001b[0m\u001b[37m\u001b[0m \u001b[1m0s\u001b[0m 51ms/step - acc: 0.9600 - kl_loss: 567.2188 - loss: 0.1069 - reconstruction_loss: 0.1012\n",
      "Epoch 49/100\n",
      "\u001b[1m1/1\u001b[0m \u001b[32m━━━━━━━━━━━━━━━━━━━━\u001b[0m\u001b[37m\u001b[0m \u001b[1m0s\u001b[0m 53ms/step - acc: 0.9800 - kl_loss: 544.3333 - loss: 0.1164 - reconstruction_loss: 0.1109\n",
      "Epoch 50/100\n",
      "\u001b[1m1/1\u001b[0m \u001b[32m━━━━━━━━━━━━━━━━━━━━\u001b[0m\u001b[37m\u001b[0m \u001b[1m0s\u001b[0m 54ms/step - acc: 0.9800 - kl_loss: 538.1235 - loss: 0.1228 - reconstruction_loss: 0.1174\n",
      "Epoch 51/100\n",
      "\u001b[1m1/1\u001b[0m \u001b[32m━━━━━━━━━━━━━━━━━━━━\u001b[0m\u001b[37m\u001b[0m \u001b[1m0s\u001b[0m 55ms/step - acc: 1.0000 - kl_loss: 540.8982 - loss: 0.0827 - reconstruction_loss: 0.0773\n",
      "Epoch 52/100\n",
      "\u001b[1m1/1\u001b[0m \u001b[32m━━━━━━━━━━━━━━━━━━━━\u001b[0m\u001b[37m\u001b[0m \u001b[1m0s\u001b[0m 54ms/step - acc: 1.0000 - kl_loss: 546.0090 - loss: 0.1025 - reconstruction_loss: 0.0971\n",
      "Epoch 53/100\n",
      "\u001b[1m1/1\u001b[0m \u001b[32m━━━━━━━━━━━━━━━━━━━━\u001b[0m\u001b[37m\u001b[0m \u001b[1m0s\u001b[0m 54ms/step - acc: 0.9400 - kl_loss: 559.7523 - loss: 0.1240 - reconstruction_loss: 0.1184\n",
      "Epoch 54/100\n",
      "\u001b[1m1/1\u001b[0m \u001b[32m━━━━━━━━━━━━━━━━━━━━\u001b[0m\u001b[37m\u001b[0m \u001b[1m0s\u001b[0m 52ms/step - acc: 0.9800 - kl_loss: 590.6085 - loss: 0.0956 - reconstruction_loss: 0.0897\n",
      "Epoch 55/100\n",
      "\u001b[1m1/1\u001b[0m \u001b[32m━━━━━━━━━━━━━━━━━━━━\u001b[0m\u001b[37m\u001b[0m \u001b[1m0s\u001b[0m 54ms/step - acc: 0.9200 - kl_loss: 638.6402 - loss: 0.1530 - reconstruction_loss: 0.1466\n",
      "Epoch 56/100\n",
      "\u001b[1m1/1\u001b[0m \u001b[32m━━━━━━━━━━━━━━━━━━━━\u001b[0m\u001b[37m\u001b[0m \u001b[1m0s\u001b[0m 54ms/step - acc: 0.9200 - kl_loss: 712.5464 - loss: 0.1279 - reconstruction_loss: 0.1208\n",
      "Epoch 57/100\n",
      "\u001b[1m1/1\u001b[0m \u001b[32m━━━━━━━━━━━━━━━━━━━━\u001b[0m\u001b[37m\u001b[0m \u001b[1m0s\u001b[0m 52ms/step - acc: 0.9800 - kl_loss: 817.8569 - loss: 0.0913 - reconstruction_loss: 0.0831\n",
      "Epoch 58/100\n",
      "\u001b[1m1/1\u001b[0m \u001b[32m━━━━━━━━━━━━━━━━━━━━\u001b[0m\u001b[37m\u001b[0m \u001b[1m0s\u001b[0m 54ms/step - acc: 0.9800 - kl_loss: 917.6957 - loss: 0.1032 - reconstruction_loss: 0.0940\n",
      "Epoch 59/100\n",
      "\u001b[1m1/1\u001b[0m \u001b[32m━━━━━━━━━━━━━━━━━━━━\u001b[0m\u001b[37m\u001b[0m \u001b[1m0s\u001b[0m 55ms/step - acc: 1.0000 - kl_loss: 997.4684 - loss: 0.0914 - reconstruction_loss: 0.0815\n",
      "Epoch 60/100\n",
      "\u001b[1m1/1\u001b[0m \u001b[32m━━━━━━━━━━━━━━━━━━━━\u001b[0m\u001b[37m\u001b[0m \u001b[1m0s\u001b[0m 52ms/step - acc: 0.9800 - kl_loss: 1087.1033 - loss: 0.0888 - reconstruction_loss: 0.0779\n",
      "Epoch 61/100\n",
      "\u001b[1m1/1\u001b[0m \u001b[32m━━━━━━━━━━━━━━━━━━━━\u001b[0m\u001b[37m\u001b[0m \u001b[1m0s\u001b[0m 54ms/step - acc: 1.0000 - kl_loss: 1149.9310 - loss: 0.1004 - reconstruction_loss: 0.0889\n",
      "Epoch 62/100\n",
      "\u001b[1m1/1\u001b[0m \u001b[32m━━━━━━━━━━━━━━━━━━━━\u001b[0m\u001b[37m\u001b[0m \u001b[1m0s\u001b[0m 51ms/step - acc: 0.9600 - kl_loss: 1173.5718 - loss: 0.0865 - reconstruction_loss: 0.0748\n",
      "Epoch 63/100\n",
      "\u001b[1m1/1\u001b[0m \u001b[32m━━━━━━━━━━━━━━━━━━━━\u001b[0m\u001b[37m\u001b[0m \u001b[1m0s\u001b[0m 55ms/step - acc: 0.9800 - kl_loss: 1181.9824 - loss: 0.0949 - reconstruction_loss: 0.0831\n",
      "Epoch 64/100\n",
      "\u001b[1m1/1\u001b[0m \u001b[32m━━━━━━━━━━━━━━━━━━━━\u001b[0m\u001b[37m\u001b[0m \u001b[1m0s\u001b[0m 53ms/step - acc: 0.9600 - kl_loss: 1181.3530 - loss: 0.1051 - reconstruction_loss: 0.0933\n",
      "Epoch 65/100\n",
      "\u001b[1m1/1\u001b[0m \u001b[32m━━━━━━━━━━━━━━━━━━━━\u001b[0m\u001b[37m\u001b[0m \u001b[1m0s\u001b[0m 53ms/step - acc: 0.9800 - kl_loss: 1158.0159 - loss: 0.0916 - reconstruction_loss: 0.0800\n",
      "Epoch 66/100\n",
      "\u001b[1m1/1\u001b[0m \u001b[32m━━━━━━━━━━━━━━━━━━━━\u001b[0m\u001b[37m\u001b[0m \u001b[1m0s\u001b[0m 53ms/step - acc: 0.9600 - kl_loss: 1138.7346 - loss: 0.0785 - reconstruction_loss: 0.0671\n",
      "Epoch 67/100\n",
      "\u001b[1m1/1\u001b[0m \u001b[32m━━━━━━━━━━━━━━━━━━━━\u001b[0m\u001b[37m\u001b[0m \u001b[1m0s\u001b[0m 53ms/step - acc: 0.9600 - kl_loss: 1106.5522 - loss: 0.0927 - reconstruction_loss: 0.0817\n",
      "Epoch 68/100\n",
      "\u001b[1m1/1\u001b[0m \u001b[32m━━━━━━━━━━━━━━━━━━━━\u001b[0m\u001b[37m\u001b[0m \u001b[1m0s\u001b[0m 52ms/step - acc: 0.9600 - kl_loss: 1075.7469 - loss: 0.0900 - reconstruction_loss: 0.0793\n",
      "Epoch 69/100\n",
      "\u001b[1m1/1\u001b[0m \u001b[32m━━━━━━━━━━━━━━━━━━━━\u001b[0m\u001b[37m\u001b[0m \u001b[1m0s\u001b[0m 53ms/step - acc: 1.0000 - kl_loss: 1046.0819 - loss: 0.0828 - reconstruction_loss: 0.0724\n",
      "Epoch 70/100\n",
      "\u001b[1m1/1\u001b[0m \u001b[32m━━━━━━━━━━━━━━━━━━━━\u001b[0m\u001b[37m\u001b[0m \u001b[1m0s\u001b[0m 55ms/step - acc: 0.9800 - kl_loss: 1008.8038 - loss: 0.0806 - reconstruction_loss: 0.0705\n",
      "Epoch 71/100\n",
      "\u001b[1m1/1\u001b[0m \u001b[32m━━━━━━━━━━━━━━━━━━━━\u001b[0m\u001b[37m\u001b[0m \u001b[1m0s\u001b[0m 55ms/step - acc: 0.9800 - kl_loss: 968.7845 - loss: 0.0735 - reconstruction_loss: 0.0638\n",
      "Epoch 72/100\n",
      "\u001b[1m1/1\u001b[0m \u001b[32m━━━━━━━━━━━━━━━━━━━━\u001b[0m\u001b[37m\u001b[0m \u001b[1m0s\u001b[0m 56ms/step - acc: 0.9800 - kl_loss: 929.2523 - loss: 0.0663 - reconstruction_loss: 0.0570\n",
      "Epoch 73/100\n",
      "\u001b[1m1/1\u001b[0m \u001b[32m━━━━━━━━━━━━━━━━━━━━\u001b[0m\u001b[37m\u001b[0m \u001b[1m0s\u001b[0m 53ms/step - acc: 0.9600 - kl_loss: 898.7768 - loss: 0.0651 - reconstruction_loss: 0.0561\n",
      "Epoch 74/100\n",
      "\u001b[1m1/1\u001b[0m \u001b[32m━━━━━━━━━━━━━━━━━━━━\u001b[0m\u001b[37m\u001b[0m \u001b[1m0s\u001b[0m 54ms/step - acc: 0.9600 - kl_loss: 863.2555 - loss: 0.0790 - reconstruction_loss: 0.0704\n",
      "Epoch 75/100\n",
      "\u001b[1m1/1\u001b[0m \u001b[32m━━━━━━━━━━━━━━━━━━━━\u001b[0m\u001b[37m\u001b[0m \u001b[1m0s\u001b[0m 60ms/step - acc: 0.9800 - kl_loss: 851.6492 - loss: 0.0746 - reconstruction_loss: 0.0660\n",
      "Epoch 76/100\n",
      "\u001b[1m1/1\u001b[0m \u001b[32m━━━━━━━━━━━━━━━━━━━━\u001b[0m\u001b[37m\u001b[0m \u001b[1m0s\u001b[0m 54ms/step - acc: 0.9800 - kl_loss: 847.4196 - loss: 0.0739 - reconstruction_loss: 0.0654\n",
      "Epoch 77/100\n",
      "\u001b[1m1/1\u001b[0m \u001b[32m━━━━━━━━━━━━━━━━━━━━\u001b[0m\u001b[37m\u001b[0m \u001b[1m0s\u001b[0m 54ms/step - acc: 0.9400 - kl_loss: 840.6773 - loss: 0.1029 - reconstruction_loss: 0.0945\n",
      "Epoch 78/100\n",
      "\u001b[1m1/1\u001b[0m \u001b[32m━━━━━━━━━━━━━━━━━━━━\u001b[0m\u001b[37m\u001b[0m \u001b[1m0s\u001b[0m 53ms/step - acc: 1.0000 - kl_loss: 868.2052 - loss: 0.0581 - reconstruction_loss: 0.0494\n",
      "Epoch 79/100\n",
      "\u001b[1m1/1\u001b[0m \u001b[32m━━━━━━━━━━━━━━━━━━━━\u001b[0m\u001b[37m\u001b[0m \u001b[1m0s\u001b[0m 53ms/step - acc: 0.9600 - kl_loss: 882.4391 - loss: 0.0767 - reconstruction_loss: 0.0679\n",
      "Epoch 80/100\n",
      "\u001b[1m1/1\u001b[0m \u001b[32m━━━━━━━━━━━━━━━━━━━━\u001b[0m\u001b[37m\u001b[0m \u001b[1m0s\u001b[0m 52ms/step - acc: 0.9800 - kl_loss: 887.8066 - loss: 0.0622 - reconstruction_loss: 0.0534\n",
      "Epoch 81/100\n",
      "\u001b[1m1/1\u001b[0m \u001b[32m━━━━━━━━━━━━━━━━━━━━\u001b[0m\u001b[37m\u001b[0m \u001b[1m0s\u001b[0m 53ms/step - acc: 0.9800 - kl_loss: 880.1452 - loss: 0.0732 - reconstruction_loss: 0.0644\n",
      "Epoch 82/100\n",
      "\u001b[1m1/1\u001b[0m \u001b[32m━━━━━━━━━━━━━━━━━━━━\u001b[0m\u001b[37m\u001b[0m \u001b[1m0s\u001b[0m 54ms/step - acc: 0.9800 - kl_loss: 887.1279 - loss: 0.0620 - reconstruction_loss: 0.0531\n",
      "Epoch 83/100\n",
      "\u001b[1m1/1\u001b[0m \u001b[32m━━━━━━━━━━━━━━━━━━━━\u001b[0m\u001b[37m\u001b[0m \u001b[1m0s\u001b[0m 55ms/step - acc: 1.0000 - kl_loss: 887.0754 - loss: 0.0632 - reconstruction_loss: 0.0543\n",
      "Epoch 84/100\n",
      "\u001b[1m1/1\u001b[0m \u001b[32m━━━━━━━━━━━━━━━━━━━━\u001b[0m\u001b[37m\u001b[0m \u001b[1m0s\u001b[0m 55ms/step - acc: 1.0000 - kl_loss: 877.6284 - loss: 0.0565 - reconstruction_loss: 0.0477\n",
      "Epoch 85/100\n",
      "\u001b[1m1/1\u001b[0m \u001b[32m━━━━━━━━━━━━━━━━━━━━\u001b[0m\u001b[37m\u001b[0m \u001b[1m0s\u001b[0m 53ms/step - acc: 0.9800 - kl_loss: 855.1000 - loss: 0.0566 - reconstruction_loss: 0.0480\n",
      "Epoch 86/100\n",
      "\u001b[1m1/1\u001b[0m \u001b[32m━━━━━━━━━━━━━━━━━━━━\u001b[0m\u001b[37m\u001b[0m \u001b[1m0s\u001b[0m 54ms/step - acc: 1.0000 - kl_loss: 841.9718 - loss: 0.0564 - reconstruction_loss: 0.0480\n",
      "Epoch 87/100\n",
      "\u001b[1m1/1\u001b[0m \u001b[32m━━━━━━━━━━━━━━━━━━━━\u001b[0m\u001b[37m\u001b[0m \u001b[1m0s\u001b[0m 53ms/step - acc: 1.0000 - kl_loss: 804.9830 - loss: 0.0513 - reconstruction_loss: 0.0433\n",
      "Epoch 88/100\n",
      "\u001b[1m1/1\u001b[0m \u001b[32m━━━━━━━━━━━━━━━━━━━━\u001b[0m\u001b[37m\u001b[0m \u001b[1m0s\u001b[0m 55ms/step - acc: 0.9800 - kl_loss: 759.9597 - loss: 0.0558 - reconstruction_loss: 0.0482\n",
      "Epoch 89/100\n",
      "\u001b[1m1/1\u001b[0m \u001b[32m━━━━━━━━━━━━━━━━━━━━\u001b[0m\u001b[37m\u001b[0m \u001b[1m0s\u001b[0m 54ms/step - acc: 1.0000 - kl_loss: 737.0363 - loss: 0.0458 - reconstruction_loss: 0.0384\n",
      "Epoch 90/100\n",
      "\u001b[1m1/1\u001b[0m \u001b[32m━━━━━━━━━━━━━━━━━━━━\u001b[0m\u001b[37m\u001b[0m \u001b[1m0s\u001b[0m 54ms/step - acc: 1.0000 - kl_loss: 717.8727 - loss: 0.0488 - reconstruction_loss: 0.0416\n",
      "Epoch 91/100\n",
      "\u001b[1m1/1\u001b[0m \u001b[32m━━━━━━━━━━━━━━━━━━━━\u001b[0m\u001b[37m\u001b[0m \u001b[1m0s\u001b[0m 52ms/step - acc: 0.9800 - kl_loss: 702.3741 - loss: 0.0576 - reconstruction_loss: 0.0506\n",
      "Epoch 92/100\n",
      "\u001b[1m1/1\u001b[0m \u001b[32m━━━━━━━━━━━━━━━━━━━━\u001b[0m\u001b[37m\u001b[0m \u001b[1m0s\u001b[0m 56ms/step - acc: 1.0000 - kl_loss: 690.9385 - loss: 0.0486 - reconstruction_loss: 0.0417\n",
      "Epoch 93/100\n",
      "\u001b[1m1/1\u001b[0m \u001b[32m━━━━━━━━━━━━━━━━━━━━\u001b[0m\u001b[37m\u001b[0m \u001b[1m0s\u001b[0m 58ms/step - acc: 0.9800 - kl_loss: 686.2236 - loss: 0.0514 - reconstruction_loss: 0.0445\n",
      "Epoch 94/100\n",
      "\u001b[1m1/1\u001b[0m \u001b[32m━━━━━━━━━━━━━━━━━━━━\u001b[0m\u001b[37m\u001b[0m \u001b[1m0s\u001b[0m 59ms/step - acc: 0.9600 - kl_loss: 684.9788 - loss: 0.0551 - reconstruction_loss: 0.0482\n",
      "Epoch 95/100\n",
      "\u001b[1m1/1\u001b[0m \u001b[32m━━━━━━━━━━━━━━━━━━━━\u001b[0m\u001b[37m\u001b[0m \u001b[1m0s\u001b[0m 58ms/step - acc: 0.9800 - kl_loss: 680.5160 - loss: 0.0487 - reconstruction_loss: 0.0419\n",
      "Epoch 96/100\n",
      "\u001b[1m1/1\u001b[0m \u001b[32m━━━━━━━━━━━━━━━━━━━━\u001b[0m\u001b[37m\u001b[0m \u001b[1m0s\u001b[0m 56ms/step - acc: 0.9800 - kl_loss: 681.5717 - loss: 0.0585 - reconstruction_loss: 0.0517\n",
      "Epoch 97/100\n",
      "\u001b[1m1/1\u001b[0m \u001b[32m━━━━━━━━━━━━━━━━━━━━\u001b[0m\u001b[37m\u001b[0m \u001b[1m0s\u001b[0m 58ms/step - acc: 1.0000 - kl_loss: 679.3800 - loss: 0.0445 - reconstruction_loss: 0.0377\n",
      "Epoch 98/100\n",
      "\u001b[1m1/1\u001b[0m \u001b[32m━━━━━━━━━━━━━━━━━━━━\u001b[0m\u001b[37m\u001b[0m \u001b[1m0s\u001b[0m 55ms/step - acc: 1.0000 - kl_loss: 683.5717 - loss: 0.0435 - reconstruction_loss: 0.0367\n",
      "Epoch 99/100\n",
      "\u001b[1m1/1\u001b[0m \u001b[32m━━━━━━━━━━━━━━━━━━━━\u001b[0m\u001b[37m\u001b[0m \u001b[1m0s\u001b[0m 53ms/step - acc: 1.0000 - kl_loss: 690.0491 - loss: 0.0416 - reconstruction_loss: 0.0347\n",
      "Epoch 100/100\n",
      "\u001b[1m1/1\u001b[0m \u001b[32m━━━━━━━━━━━━━━━━━━━━\u001b[0m\u001b[37m\u001b[0m \u001b[1m0s\u001b[0m 54ms/step - acc: 1.0000 - kl_loss: 692.4632 - loss: 0.0421 - reconstruction_loss: 0.0351\n"
     ]
    }
   ],
   "source": [
    "# for test\n",
    "encoder = Encoder(SMILES_DIM, SMILES_MAX_LEN, EMBEDDING_DIM, FILTER_SIZES, FILTER_NUM, LATENT_DIM, LSTM_CELLS_NUM, name='encoder')\n",
    "decoder = Decoder2(SMILES_DIM, SMILES_MAX_LEN, EMBEDDING_DIM, LSTM_CELLS_NUM, name='decoder')\n",
    "vae = VAE(encoder, decoder, name='vae')\n",
    "\n",
    "optimizer = keras.optimizers.Adam(learning_rate=LR)\n",
    "vae.compile(optimizer=optimizer,)\n",
    "vae.encoder.sampling.diversity = 5\n",
    "\n",
    "callbacks = [\n",
    "    tf.keras.callbacks.EarlyStopping(patience=5),\n",
    "#     tf.keras.callbacks.TensorBoard(log|_dir='./logs'),\n",
    "]\n",
    "\n",
    "history = vae.fit(x_train,\n",
    "                  epochs=NUM_EPOCHS,\n",
    "                  batch_size=BATCH_SIZE,\n",
    "                  shuffle=True,\n",
    "                  callbacks=callbacks)"
   ]
  },
  {
   "cell_type": "markdown",
   "metadata": {},
   "source": [
    "## Prediction"
   ]
  },
  {
   "cell_type": "code",
   "execution_count": 26,
   "metadata": {},
   "outputs": [
    {
     "data": {
      "image/png": "[encoded data removed]",
      "text/plain": [
       "<rdkit.Chem.rdchem.Mol at 0x7bea00230970>"
      ]
     },
     "execution_count": 26,
     "metadata": {},
     "output_type": "execute_result"
    }
   ],
   "source": [
    "Chem.MolFromSmiles('CNC1=NC=C(C=C1)C2=NC3=C(C=C2)C=C(C=C3)OC[C@@H](CF)O') # 原始輸入：待預測的藥物"
   ]
  },
  {
   "cell_type": "code",
   "execution_count": 148,
   "metadata": {},
   "outputs": [
    {
     "data": {
      "text/plain": [
       "184"
      ]
     },
     "execution_count": 148,
     "metadata": {},
     "output_type": "execute_result"
    }
   ],
   "source": [
    "# load data\n",
    "PREDICTION_DIR = './prediction/'\n",
    "drugs_smiles = []\n",
    "with open(PREDICTION_DIR + '/20200715.txt', 'r') as f:\n",
    "    for smiles in f.readlines():\n",
    "        drugs_smiles.append(smiles.split('\\n')[0])\n",
    "\n",
    "len(drugs_smiles)"
   ]
  },
  {
   "cell_type": "code",
   "execution_count": 149,
   "metadata": {},
   "outputs": [],
   "source": [
    "test_smiles = tokenizer.texts_to_sequences(drugs_smiles)\n",
    "test_smiles = np.squeeze(np.array(test_smiles))\n",
    "test_smiles = sequence.pad_sequences(test_smiles, maxlen=SMILES_MAX_LEN, padding='post', value=tokenizer.word_index['<PAD>'])"
   ]
  },
  {
   "cell_type": "code",
   "execution_count": 143,
   "metadata": {},
   "outputs": [],
   "source": [
    "vae.encoder.sampling.diversity = 3000"
   ]
  },
  {
   "cell_type": "code",
   "execution_count": 150,
   "metadata": {},
   "outputs": [],
   "source": [
    "outputs = vae.predict(test_smiles)\n",
    "pred_drug = np.argmax(outputs, axis=2)\n",
    "# pred_drug\n",
    "\n",
    "original_pred_drug = tokenizer.sequences_to_texts(pred_drug)\n",
    "original_pred_drug = [x.replace(' ', '') for x in original_pred_drug]"
   ]
  },
  {
   "cell_type": "code",
   "execution_count": 151,
   "metadata": {},
   "outputs": [
    {
     "data": {
      "image/png": "[encoded data removed]",
      "text/plain": [
       "<rdkit.Chem.rdchem.Mol at 0x7f04e1778990>"
      ]
     },
     "execution_count": 151,
     "metadata": {},
     "output_type": "execute_result"
    }
   ],
   "source": [
    "Chem.MolFromSmiles('CNC1=NC=C(C=C1)C2=NC3=C(C=C2)C=C(C=C3)OC[C@@H](CF)O') # 原始輸入"
   ]
  },
  {
   "cell_type": "code",
   "execution_count": 152,
   "metadata": {},
   "outputs": [
    {
     "data": {
      "image/png": "[encoded data removed]",
      "text/plain": [
       "<rdkit.Chem.rdchem.Mol at 0x7f04d409e800>"
      ]
     },
     "execution_count": 152,
     "metadata": {},
     "output_type": "execute_result"
    }
   ],
   "source": [
    "Chem.MolFromSmiles(original_pred_drug[2]) # 新生成全新的藥物"
   ]
  }
 ],
 "metadata": {
  "kernelspec": {
   "display_name": "Python 3",
   "language": "python",
   "name": "python3"
  },
  "language_info": {
   "codemirror_mode": {
    "name": "ipython",
    "version": 3
   },
   "file_extension": ".py",
   "mimetype": "text/x-python",
   "name": "python",
   "nbconvert_exporter": "python",
   "pygments_lexer": "ipython3",
   "version": "3.10.14"
  }
 },
 "nbformat": 4,
 "nbformat_minor": 4
}
